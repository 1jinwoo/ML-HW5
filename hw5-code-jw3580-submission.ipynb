{
 "cells": [
  {
   "cell_type": "code",
   "execution_count": 1,
   "metadata": {},
   "outputs": [],
   "source": [
    "import numpy as np\n",
    "import pandas as pd\n",
    "import matplotlib.pyplot as plt\n",
    "from imblearn.over_sampling import SMOTE"
   ]
  },
  {
   "cell_type": "code",
   "execution_count": 2,
   "metadata": {
    "scrolled": false
   },
   "outputs": [
    {
     "name": "stderr",
     "output_type": "stream",
     "text": [
      "C:\\Users\\justi\\Anaconda3\\envs\\deeplearning\\lib\\site-packages\\IPython\\core\\interactiveshell.py:3020: DtypeWarning: Columns (50,172,255,256,257,258,268,280,376) have mixed types. Specify dtype option on import or set low_memory=False.\n",
      "  interactivity=interactivity, compiler=compiler, result=result)\n",
      "C:\\Users\\justi\\Anaconda3\\envs\\deeplearning\\lib\\site-packages\\IPython\\core\\interactiveshell.py:3020: DtypeWarning: Columns (50,255,256,257,258,260,268) have mixed types. Specify dtype option on import or set low_memory=False.\n",
      "  interactivity=interactivity, compiler=compiler, result=result)\n"
     ]
    },
    {
     "data": {
      "text/html": [
       "<div>\n",
       "<style scoped>\n",
       "    .dataframe tbody tr th:only-of-type {\n",
       "        vertical-align: middle;\n",
       "    }\n",
       "\n",
       "    .dataframe tbody tr th {\n",
       "        vertical-align: top;\n",
       "    }\n",
       "\n",
       "    .dataframe thead th {\n",
       "        text-align: right;\n",
       "    }\n",
       "</style>\n",
       "<table border=\"1\" class=\"dataframe\">\n",
       "  <thead>\n",
       "    <tr style=\"text-align: right;\">\n",
       "      <th></th>\n",
       "      <th>cntryid</th>\n",
       "      <th>cntryid_e</th>\n",
       "      <th>age_r</th>\n",
       "      <th>gender_r</th>\n",
       "      <th>computerexperience</th>\n",
       "      <th>nativespeaker</th>\n",
       "      <th>edlevel3</th>\n",
       "      <th>monthlyincpr</th>\n",
       "      <th>yearlyincpr</th>\n",
       "      <th>lng_home</th>\n",
       "      <th>...</th>\n",
       "      <th>v85</th>\n",
       "      <th>v50</th>\n",
       "      <th>v89</th>\n",
       "      <th>v127</th>\n",
       "      <th>v239</th>\n",
       "      <th>v224</th>\n",
       "      <th>v71</th>\n",
       "      <th>v105</th>\n",
       "      <th>row</th>\n",
       "      <th>uni</th>\n",
       "    </tr>\n",
       "  </thead>\n",
       "  <tbody>\n",
       "    <tr>\n",
       "      <th>0</th>\n",
       "      <td>Russian Federation</td>\n",
       "      <td>Russian Federation</td>\n",
       "      <td>42.0</td>\n",
       "      <td>Female</td>\n",
       "      <td>Yes</td>\n",
       "      <td>Yes</td>\n",
       "      <td>High</td>\n",
       "      <td>25 to less than 50</td>\n",
       "      <td>25 to less than 50</td>\n",
       "      <td>999</td>\n",
       "      <td>...</td>\n",
       "      <td>Agree</td>\n",
       "      <td>Agree</td>\n",
       "      <td>NaN</td>\n",
       "      <td>NaN</td>\n",
       "      <td>233.0</td>\n",
       "      <td>9996.0</td>\n",
       "      <td>8521</td>\n",
       "      <td>9996.0</td>\n",
       "      <td>95754</td>\n",
       "      <td>jw3580</td>\n",
       "    </tr>\n",
       "    <tr>\n",
       "      <th>1</th>\n",
       "      <td>United States</td>\n",
       "      <td>United States</td>\n",
       "      <td>NaN</td>\n",
       "      <td>Male</td>\n",
       "      <td>Yes</td>\n",
       "      <td>Yes</td>\n",
       "      <td>High</td>\n",
       "      <td>75 to less than 90</td>\n",
       "      <td>75 to less than 90</td>\n",
       "      <td>999</td>\n",
       "      <td>...</td>\n",
       "      <td>Agree</td>\n",
       "      <td>Neither agree nor disagree</td>\n",
       "      <td>NaN</td>\n",
       "      <td>NaN</td>\n",
       "      <td>9999.0</td>\n",
       "      <td>9996.0</td>\n",
       "      <td>9999</td>\n",
       "      <td>9996.0</td>\n",
       "      <td>57367</td>\n",
       "      <td>jw3580</td>\n",
       "    </tr>\n",
       "    <tr>\n",
       "      <th>2</th>\n",
       "      <td>United States</td>\n",
       "      <td>United States</td>\n",
       "      <td>NaN</td>\n",
       "      <td>Female</td>\n",
       "      <td>Yes</td>\n",
       "      <td>Yes</td>\n",
       "      <td>High</td>\n",
       "      <td>NaN</td>\n",
       "      <td>NaN</td>\n",
       "      <td>999</td>\n",
       "      <td>...</td>\n",
       "      <td>Strongly agree</td>\n",
       "      <td>Strongly agree</td>\n",
       "      <td>NaN</td>\n",
       "      <td>NaN</td>\n",
       "      <td>9996.0</td>\n",
       "      <td>9999.0</td>\n",
       "      <td>9996</td>\n",
       "      <td>9999.0</td>\n",
       "      <td>195554</td>\n",
       "      <td>jw3580</td>\n",
       "    </tr>\n",
       "    <tr>\n",
       "      <th>3</th>\n",
       "      <td>Czech Republic</td>\n",
       "      <td>Czech Republic</td>\n",
       "      <td>23.0</td>\n",
       "      <td>Female</td>\n",
       "      <td>Yes</td>\n",
       "      <td>Yes</td>\n",
       "      <td>Medium</td>\n",
       "      <td>10 to less than 25</td>\n",
       "      <td>10 to less than 25</td>\n",
       "      <td>ces</td>\n",
       "      <td>...</td>\n",
       "      <td>Agree</td>\n",
       "      <td>Agree</td>\n",
       "      <td>NaN</td>\n",
       "      <td>NaN</td>\n",
       "      <td>3311.0</td>\n",
       "      <td>9996.0</td>\n",
       "      <td>6419</td>\n",
       "      <td>9996.0</td>\n",
       "      <td>42148</td>\n",
       "      <td>jw3580</td>\n",
       "    </tr>\n",
       "    <tr>\n",
       "      <th>4</th>\n",
       "      <td>Canada</td>\n",
       "      <td>Canada (English)</td>\n",
       "      <td>NaN</td>\n",
       "      <td>Male</td>\n",
       "      <td>Yes</td>\n",
       "      <td>Yes</td>\n",
       "      <td>Medium</td>\n",
       "      <td>NaN</td>\n",
       "      <td>NaN</td>\n",
       "      <td>999</td>\n",
       "      <td>...</td>\n",
       "      <td>Disagree</td>\n",
       "      <td>Agree</td>\n",
       "      <td>NaN</td>\n",
       "      <td>NaN</td>\n",
       "      <td>9996.0</td>\n",
       "      <td>9999.0</td>\n",
       "      <td>9999</td>\n",
       "      <td>9999.0</td>\n",
       "      <td>86076</td>\n",
       "      <td>jw3580</td>\n",
       "    </tr>\n",
       "  </tbody>\n",
       "</table>\n",
       "<p>5 rows × 380 columns</p>\n",
       "</div>"
      ],
      "text/plain": [
       "              cntryid           cntryid_e  age_r gender_r computerexperience  \\\n",
       "0  Russian Federation  Russian Federation   42.0   Female                Yes   \n",
       "1       United States       United States    NaN     Male                Yes   \n",
       "2       United States       United States    NaN   Female                Yes   \n",
       "3      Czech Republic      Czech Republic   23.0   Female                Yes   \n",
       "4              Canada    Canada (English)    NaN     Male                Yes   \n",
       "\n",
       "  nativespeaker edlevel3        monthlyincpr         yearlyincpr lng_home  \\\n",
       "0           Yes     High  25 to less than 50  25 to less than 50      999   \n",
       "1           Yes     High  75 to less than 90  75 to less than 90      999   \n",
       "2           Yes     High                 NaN                 NaN      999   \n",
       "3           Yes   Medium  10 to less than 25  10 to less than 25      ces   \n",
       "4           Yes   Medium                 NaN                 NaN      999   \n",
       "\n",
       "   ...             v85                         v50  v89 v127    v239    v224  \\\n",
       "0  ...           Agree                       Agree  NaN  NaN   233.0  9996.0   \n",
       "1  ...           Agree  Neither agree nor disagree  NaN  NaN  9999.0  9996.0   \n",
       "2  ...  Strongly agree              Strongly agree  NaN  NaN  9996.0  9999.0   \n",
       "3  ...           Agree                       Agree  NaN  NaN  3311.0  9996.0   \n",
       "4  ...        Disagree                       Agree  NaN  NaN  9996.0  9999.0   \n",
       "\n",
       "    v71    v105     row     uni  \n",
       "0  8521  9996.0   95754  jw3580  \n",
       "1  9999  9996.0   57367  jw3580  \n",
       "2  9996  9999.0  195554  jw3580  \n",
       "3  6419  9996.0   42148  jw3580  \n",
       "4  9999  9999.0   86076  jw3580  \n",
       "\n",
       "[5 rows x 380 columns]"
      ]
     },
     "execution_count": 2,
     "metadata": {},
     "output_type": "execute_result"
    }
   ],
   "source": [
    "train_df = pd.read_csv('./data/trainingset.csv')\n",
    "test_df = pd.read_csv('./data/testset.csv')\n",
    "train_df.head()"
   ]
  },
  {
   "cell_type": "markdown",
   "metadata": {},
   "source": [
    "# Sampling with Replacement for Gender Bias Reduction"
   ]
  },
  {
   "cell_type": "code",
   "execution_count": 3,
   "metadata": {},
   "outputs": [
    {
     "data": {
      "text/plain": [
       "Male      12495\n",
       "Female     7505\n",
       "Name: gender_r, dtype: int64"
      ]
     },
     "execution_count": 3,
     "metadata": {},
     "output_type": "execute_result"
    }
   ],
   "source": [
    "vc_train = train_df['gender_r'].value_counts()\n",
    "vc_train"
   ]
  },
  {
   "cell_type": "code",
   "execution_count": 4,
   "metadata": {},
   "outputs": [
    {
     "data": {
      "text/plain": [
       "Female    10111\n",
       "Male       9889\n",
       "Name: gender_r, dtype: int64"
      ]
     },
     "execution_count": 4,
     "metadata": {},
     "output_type": "execute_result"
    }
   ],
   "source": [
    "vc_test = test_df['gender_r'].value_counts()\n",
    "vc_test"
   ]
  },
  {
   "cell_type": "code",
   "execution_count": 5,
   "metadata": {},
   "outputs": [
    {
     "data": {
      "text/plain": [
       "20000"
      ]
     },
     "execution_count": 5,
     "metadata": {},
     "output_type": "execute_result"
    }
   ],
   "source": [
    "len(test_df)"
   ]
  },
  {
   "cell_type": "code",
   "execution_count": 6,
   "metadata": {},
   "outputs": [
    {
     "data": {
      "text/plain": [
       "(0.791436574629852, 1.3472351765489676)"
      ]
     },
     "execution_count": 6,
     "metadata": {},
     "output_type": "execute_result"
    }
   ],
   "source": [
    "# find weights\n",
    "w_m = (vc_test[1] / len(test_df)) / (vc_train[0] / len(train_df))\n",
    "w_f = (vc_test[0] / len(test_df)) / (vc_train[1] / len(train_df))\n",
    "w_m, w_f"
   ]
  },
  {
   "cell_type": "code",
   "execution_count": 7,
   "metadata": {},
   "outputs": [
    {
     "data": {
      "text/plain": [
       "(0.37005986271320884, 0.6299401372867911)"
      ]
     },
     "execution_count": 7,
     "metadata": {},
     "output_type": "execute_result"
    }
   ],
   "source": [
    "# Probability of drawing\n",
    "sum_of_w = w_m + w_f\n",
    "P_m = w_m / sum_of_w\n",
    "P_f = w_f / sum_of_w\n",
    "P_m, P_f"
   ]
  },
  {
   "cell_type": "code",
   "execution_count": 8,
   "metadata": {},
   "outputs": [
    {
     "data": {
      "text/plain": [
       "(20000,)"
      ]
     },
     "execution_count": 8,
     "metadata": {},
     "output_type": "execute_result"
    }
   ],
   "source": [
    "# Build up a weights series\n",
    "weights = train_df['gender_r'] == 'Male'\n",
    "weights.replace(to_replace=True, value=P_m, inplace=True)\n",
    "weights.replace(to_replace=False, value=P_f, inplace=True)\n",
    "weights.shape"
   ]
  },
  {
   "cell_type": "code",
   "execution_count": 9,
   "metadata": {},
   "outputs": [
    {
     "data": {
      "text/html": [
       "<div>\n",
       "<style scoped>\n",
       "    .dataframe tbody tr th:only-of-type {\n",
       "        vertical-align: middle;\n",
       "    }\n",
       "\n",
       "    .dataframe tbody tr th {\n",
       "        vertical-align: top;\n",
       "    }\n",
       "\n",
       "    .dataframe thead th {\n",
       "        text-align: right;\n",
       "    }\n",
       "</style>\n",
       "<table border=\"1\" class=\"dataframe\">\n",
       "  <thead>\n",
       "    <tr style=\"text-align: right;\">\n",
       "      <th></th>\n",
       "      <th>cntryid</th>\n",
       "      <th>cntryid_e</th>\n",
       "      <th>age_r</th>\n",
       "      <th>gender_r</th>\n",
       "      <th>computerexperience</th>\n",
       "      <th>nativespeaker</th>\n",
       "      <th>edlevel3</th>\n",
       "      <th>monthlyincpr</th>\n",
       "      <th>yearlyincpr</th>\n",
       "      <th>lng_home</th>\n",
       "      <th>...</th>\n",
       "      <th>v85</th>\n",
       "      <th>v50</th>\n",
       "      <th>v89</th>\n",
       "      <th>v127</th>\n",
       "      <th>v239</th>\n",
       "      <th>v224</th>\n",
       "      <th>v71</th>\n",
       "      <th>v105</th>\n",
       "      <th>row</th>\n",
       "      <th>uni</th>\n",
       "    </tr>\n",
       "  </thead>\n",
       "  <tbody>\n",
       "    <tr>\n",
       "      <th>7502</th>\n",
       "      <td>Russian Federation</td>\n",
       "      <td>Russian Federation</td>\n",
       "      <td>28.0</td>\n",
       "      <td>Female</td>\n",
       "      <td>Yes</td>\n",
       "      <td>Yes</td>\n",
       "      <td>High</td>\n",
       "      <td>25 to less than 50</td>\n",
       "      <td>25 to less than 50</td>\n",
       "      <td>999</td>\n",
       "      <td>...</td>\n",
       "      <td>Agree</td>\n",
       "      <td>Agree</td>\n",
       "      <td>NaN</td>\n",
       "      <td>NaN</td>\n",
       "      <td>1222.0</td>\n",
       "      <td>9996.0</td>\n",
       "      <td>731</td>\n",
       "      <td>9996.0</td>\n",
       "      <td>93061</td>\n",
       "      <td>jw3580</td>\n",
       "    </tr>\n",
       "    <tr>\n",
       "      <th>19002</th>\n",
       "      <td>Japan</td>\n",
       "      <td>Japan</td>\n",
       "      <td>35.0</td>\n",
       "      <td>Male</td>\n",
       "      <td>Yes</td>\n",
       "      <td>Yes</td>\n",
       "      <td>High</td>\n",
       "      <td>50 to less than 75</td>\n",
       "      <td>50 to less than 75</td>\n",
       "      <td>jpn</td>\n",
       "      <td>...</td>\n",
       "      <td>Strongly agree</td>\n",
       "      <td>Agree</td>\n",
       "      <td>NaN</td>\n",
       "      <td>NaN</td>\n",
       "      <td>4313.0</td>\n",
       "      <td>9996.0</td>\n",
       "      <td>7820</td>\n",
       "      <td>9996.0</td>\n",
       "      <td>7994</td>\n",
       "      <td>jw3580</td>\n",
       "    </tr>\n",
       "    <tr>\n",
       "      <th>14614</th>\n",
       "      <td>Italy</td>\n",
       "      <td>Italy</td>\n",
       "      <td>37.0</td>\n",
       "      <td>Male</td>\n",
       "      <td>Yes</td>\n",
       "      <td>Yes</td>\n",
       "      <td>Medium</td>\n",
       "      <td>75 to less than 90</td>\n",
       "      <td>75 to less than 90</td>\n",
       "      <td>999</td>\n",
       "      <td>...</td>\n",
       "      <td>Neither agree nor disagree</td>\n",
       "      <td>Agree</td>\n",
       "      <td>NaN</td>\n",
       "      <td>NaN</td>\n",
       "      <td>7543.0</td>\n",
       "      <td>9996.0</td>\n",
       "      <td>3020</td>\n",
       "      <td>9996.0</td>\n",
       "      <td>163582</td>\n",
       "      <td>jw3580</td>\n",
       "    </tr>\n",
       "    <tr>\n",
       "      <th>11968</th>\n",
       "      <td>United States</td>\n",
       "      <td>United States</td>\n",
       "      <td>NaN</td>\n",
       "      <td>Male</td>\n",
       "      <td>Yes</td>\n",
       "      <td>Yes</td>\n",
       "      <td>High</td>\n",
       "      <td>50 to less than 75</td>\n",
       "      <td>50 to less than 75</td>\n",
       "      <td>999</td>\n",
       "      <td>...</td>\n",
       "      <td>Agree</td>\n",
       "      <td>Agree</td>\n",
       "      <td>NaN</td>\n",
       "      <td>NaN</td>\n",
       "      <td>9999.0</td>\n",
       "      <td>9996.0</td>\n",
       "      <td>9999</td>\n",
       "      <td>9996.0</td>\n",
       "      <td>156617</td>\n",
       "      <td>jw3580</td>\n",
       "    </tr>\n",
       "    <tr>\n",
       "      <th>3130</th>\n",
       "      <td>Russian Federation</td>\n",
       "      <td>Russian Federation</td>\n",
       "      <td>38.0</td>\n",
       "      <td>Female</td>\n",
       "      <td>Yes</td>\n",
       "      <td>Yes</td>\n",
       "      <td>High</td>\n",
       "      <td>Less than 10</td>\n",
       "      <td>Less than 10</td>\n",
       "      <td>999</td>\n",
       "      <td>...</td>\n",
       "      <td>Strongly agree</td>\n",
       "      <td>Strongly agree</td>\n",
       "      <td>NaN</td>\n",
       "      <td>NaN</td>\n",
       "      <td>1345.0</td>\n",
       "      <td>9996.0</td>\n",
       "      <td>851</td>\n",
       "      <td>9996.0</td>\n",
       "      <td>53585</td>\n",
       "      <td>jw3580</td>\n",
       "    </tr>\n",
       "  </tbody>\n",
       "</table>\n",
       "<p>5 rows × 380 columns</p>\n",
       "</div>"
      ],
      "text/plain": [
       "                  cntryid           cntryid_e  age_r gender_r  \\\n",
       "7502   Russian Federation  Russian Federation   28.0   Female   \n",
       "19002               Japan               Japan   35.0     Male   \n",
       "14614               Italy               Italy   37.0     Male   \n",
       "11968       United States       United States    NaN     Male   \n",
       "3130   Russian Federation  Russian Federation   38.0   Female   \n",
       "\n",
       "      computerexperience nativespeaker edlevel3        monthlyincpr  \\\n",
       "7502                 Yes           Yes     High  25 to less than 50   \n",
       "19002                Yes           Yes     High  50 to less than 75   \n",
       "14614                Yes           Yes   Medium  75 to less than 90   \n",
       "11968                Yes           Yes     High  50 to less than 75   \n",
       "3130                 Yes           Yes     High        Less than 10   \n",
       "\n",
       "              yearlyincpr lng_home  ...                         v85  \\\n",
       "7502   25 to less than 50      999  ...                       Agree   \n",
       "19002  50 to less than 75      jpn  ...              Strongly agree   \n",
       "14614  75 to less than 90      999  ...  Neither agree nor disagree   \n",
       "11968  50 to less than 75      999  ...                       Agree   \n",
       "3130         Less than 10      999  ...              Strongly agree   \n",
       "\n",
       "                  v50  v89 v127    v239    v224   v71    v105     row     uni  \n",
       "7502            Agree  NaN  NaN  1222.0  9996.0   731  9996.0   93061  jw3580  \n",
       "19002           Agree  NaN  NaN  4313.0  9996.0  7820  9996.0    7994  jw3580  \n",
       "14614           Agree  NaN  NaN  7543.0  9996.0  3020  9996.0  163582  jw3580  \n",
       "11968           Agree  NaN  NaN  9999.0  9996.0  9999  9996.0  156617  jw3580  \n",
       "3130   Strongly agree  NaN  NaN  1345.0  9996.0   851  9996.0   53585  jw3580  \n",
       "\n",
       "[5 rows x 380 columns]"
      ]
     },
     "execution_count": 9,
     "metadata": {},
     "output_type": "execute_result"
    }
   ],
   "source": [
    "train_df = train_df.sample(n=20000, replace=True, weights=weights,\n",
    "                           random_state=42)\n",
    "train_df.head()"
   ]
  },
  {
   "cell_type": "code",
   "execution_count": 10,
   "metadata": {},
   "outputs": [
    {
     "data": {
      "text/plain": [
       "Female    10141\n",
       "Male       9859\n",
       "Name: gender_r, dtype: int64"
      ]
     },
     "execution_count": 10,
     "metadata": {},
     "output_type": "execute_result"
    }
   ],
   "source": [
    "# Gender bias in sample removed\n",
    "train_df['gender_r'].value_counts()"
   ]
  },
  {
   "cell_type": "code",
   "execution_count": 11,
   "metadata": {},
   "outputs": [
    {
     "data": {
      "text/plain": [
       "Index(['age_r', 'yrsqual', 'yrsqual_t', 'yrsget', 'imyrs', 'leavedu',\n",
       "       'nfehrsnjr', 'nfehrsjr', 'nfehrs', 'isco1c',\n",
       "       ...\n",
       "       'v127_ISCED 3A-B', 'v127_ISCED 3C 2 years or more',\n",
       "       'v127_ISCED 3C shorter than 2 years',\n",
       "       'v127_ISCED 4 (without distinction A-B-C)', 'v127_ISCED 4A-B',\n",
       "       'v127_ISCED 5A, bachelor degree',\n",
       "       'v127_ISCED 5A, master degree, and 6 (without distinction)',\n",
       "       'v127_ISCED 5B', 'v127_No formal qualification or below ISCED 1',\n",
       "       'v127_nan'],\n",
       "      dtype='object', length=2531)"
      ]
     },
     "execution_count": 11,
     "metadata": {},
     "output_type": "execute_result"
    }
   ],
   "source": [
    "# Dropping uni and v262 because the two columns have no infomration\n",
    "train_df.drop(['uni', 'v262'], axis=1, inplace=True)\n",
    "test_df.drop(['uni', 'v262'], axis=1, inplace=True)\n",
    "\n",
    "# NaN processing with interpolation\n",
    "train_df.fillna(train_df.mean(), inplace=True)\n",
    "test_df.fillna(test_df.mean(), inplace=True)\n",
    "\n",
    "# Pick out categorical columns\n",
    "train_categ_df = train_df.select_dtypes(include=[np.object], exclude=[np.number])\n",
    "train_df.drop(train_categ_df.columns, axis=1, inplace=True)\n",
    "test_categ_df = test_df.select_dtypes(include=[np.object], exclude=[np.number])\n",
    "test_df.drop(test_categ_df.columns, axis=1, inplace=True)\n",
    "\n",
    "# One-hot encode\n",
    "train_categ_df = pd.get_dummies(train_categ_df, dummy_na=True)\n",
    "test_categ_df = pd.get_dummies(test_categ_df, dummy_na=True)\n",
    "train_df = pd.concat([train_df, train_categ_df], axis=1)\n",
    "test_df = pd.concat([test_df, test_categ_df], axis=1)\n",
    "test_df.columns"
   ]
  },
  {
   "cell_type": "code",
   "execution_count": 15,
   "metadata": {},
   "outputs": [
    {
     "data": {
      "text/plain": [
       "(True, 2299)"
      ]
     },
     "execution_count": 15,
     "metadata": {},
     "output_type": "execute_result"
    }
   ],
   "source": [
    "# Take the intersection of train_df and test_df columns\n",
    "train_col_intersect = []\n",
    "test_col_intersect = []\n",
    "for col in train_df.columns:\n",
    "    if col in test_df.columns:\n",
    "        train_col_intersect.append(col)\n",
    "for col in test_df.columns:\n",
    "    if col in train_df.columns:\n",
    "        test_col_intersect.append(col)\n",
    "len(train_col_intersect) == len(test_col_intersect), len(train_col_intersect)"
   ]
  },
  {
   "cell_type": "code",
   "execution_count": 16,
   "metadata": {},
   "outputs": [
    {
     "data": {
      "text/plain": [
       "878"
      ]
     },
     "execution_count": 16,
     "metadata": {},
     "output_type": "execute_result"
    }
   ],
   "source": [
    "# get cols to drop\n",
    "train_col_to_drop = set(train_df.columns) - set(train_col_intersect)\n",
    "test_col_to_drop = set(test_df.columns) - set(test_col_intersect)\n",
    "len(train_col_to_drop)"
   ]
  },
  {
   "cell_type": "code",
   "execution_count": 17,
   "metadata": {},
   "outputs": [
    {
     "data": {
      "text/plain": [
       "(20000, 3177)"
      ]
     },
     "execution_count": 17,
     "metadata": {},
     "output_type": "execute_result"
    }
   ],
   "source": [
    "train_df.shape"
   ]
  },
  {
   "cell_type": "code",
   "execution_count": 18,
   "metadata": {},
   "outputs": [],
   "source": [
    "# drop\n",
    "train_df.drop(train_col_to_drop, axis=1, inplace=True)\n",
    "test_df.drop(test_col_to_drop, axis=1, inplace=True)"
   ]
  },
  {
   "cell_type": "code",
   "execution_count": 19,
   "metadata": {},
   "outputs": [
    {
     "data": {
      "text/plain": [
       "(20000, 2299)"
      ]
     },
     "execution_count": 19,
     "metadata": {},
     "output_type": "execute_result"
    }
   ],
   "source": [
    "train_df.shape"
   ]
  },
  {
   "cell_type": "code",
   "execution_count": 20,
   "metadata": {},
   "outputs": [],
   "source": [
    "# Divide into X and Y (for submission)\n",
    "X_train_final = train_df.drop('job_performance', axis=1) # Fit on train_final's\n",
    "y_train_final = train_df['job_performance']\n",
    "X_test_final = test_df.drop('job_performance', axis=1) # and predict on X_test_final for submission\n",
    "y_test_final = test_df['job_performance'] # Empty"
   ]
  },
  {
   "cell_type": "markdown",
   "metadata": {},
   "source": [
    "# Pipeline for Model Selection and Tuning\n",
    "Splitting train_df into train and test because only train_df has true labels to check accuracy"
   ]
  },
  {
   "cell_type": "code",
   "execution_count": 21,
   "metadata": {},
   "outputs": [
    {
     "name": "stdout",
     "output_type": "stream",
     "text": [
      "(20000, 2298) (20000,)\n"
     ]
    }
   ],
   "source": [
    "from sklearn.model_selection import train_test_split\n",
    "\n",
    "df = train_df[:]\n",
    "X = train_df.drop('job_performance', axis=1)\n",
    "y = train_df['job_performance']\n",
    "print(X.shape, y.shape)"
   ]
  },
  {
   "cell_type": "code",
   "execution_count": 22,
   "metadata": {},
   "outputs": [
    {
     "data": {
      "text/plain": [
       "((14000, 2298), (6000,))"
      ]
     },
     "execution_count": 22,
     "metadata": {},
     "output_type": "execute_result"
    }
   ],
   "source": [
    "X_train, X_test, y_train, y_test = train_test_split(X, y, test_size=0.3, random_state=42)\n",
    "X_train.shape, y_test.shape"
   ]
  },
  {
   "cell_type": "code",
   "execution_count": 23,
   "metadata": {},
   "outputs": [],
   "source": [
    "def evaluate_MSE(MSE):\n",
    "    '''Evaluates MSE based on HW5 problem statement'''\n",
    "    MSE = MSE * 20000/6000\n",
    "    near_upper = 164100\n",
    "    near_lower = 44900\n",
    "    unit = 1950\n",
    "    \n",
    "    if MSE > near_upper:\n",
    "        print(f'MSE of {MSE} exceeds the upper bound for 90% range')\n",
    "    elif MSE > near_lower:\n",
    "        print(f'MSE of {MSE} is within 90% range for grade')\n",
    "    else:\n",
    "        ec = int((near_lower - MSE) / unit)\n",
    "        print(f'MSE of {MSE} qualifies for {ec}% of EC')"
   ]
  },
  {
   "cell_type": "markdown",
   "metadata": {},
   "source": [
    "# Create Baseline Model\n",
    "Basic OLS regression"
   ]
  },
  {
   "cell_type": "code",
   "execution_count": 24,
   "metadata": {},
   "outputs": [
    {
     "data": {
      "text/plain": [
       "0.721883546025893"
      ]
     },
     "execution_count": 24,
     "metadata": {},
     "output_type": "execute_result"
    }
   ],
   "source": [
    "from sklearn.linear_model import LinearRegression\n",
    "reg = LinearRegression().fit(X_train, y_train)\n",
    "reg.score(X_train, y_train)"
   ]
  },
  {
   "cell_type": "code",
   "execution_count": 25,
   "metadata": {},
   "outputs": [
    {
     "data": {
      "text/plain": [
       "(6000,)"
      ]
     },
     "execution_count": 25,
     "metadata": {},
     "output_type": "execute_result"
    }
   ],
   "source": [
    "y_true = y_test[:]\n",
    "y_pred = reg.predict(X_test)\n",
    "y_pred.shape"
   ]
  },
  {
   "cell_type": "code",
   "execution_count": 26,
   "metadata": {},
   "outputs": [
    {
     "data": {
      "text/plain": [
       "78050.50255177343"
      ]
     },
     "execution_count": 26,
     "metadata": {},
     "output_type": "execute_result"
    }
   ],
   "source": [
    "from sklearn.metrics import mean_squared_error\n",
    "MSE = mean_squared_error(y_true, y_pred)\n",
    "MSE"
   ]
  },
  {
   "cell_type": "code",
   "execution_count": 27,
   "metadata": {},
   "outputs": [
    {
     "name": "stdout",
     "output_type": "stream",
     "text": [
      "MSE of 260168.34183924476 exceeds the upper bound for 90% range\n"
     ]
    }
   ],
   "source": [
    "evaluate_MSE(MSE)"
   ]
  },
  {
   "cell_type": "markdown",
   "metadata": {},
   "source": [
    "# Decision Tree Regressor"
   ]
  },
  {
   "cell_type": "code",
   "execution_count": 28,
   "metadata": {},
   "outputs": [
    {
     "name": "stdout",
     "output_type": "stream",
     "text": [
      "0.9999880938127264\n",
      "MSE of 116503.72624054905 is within 90% range for grade\n"
     ]
    }
   ],
   "source": [
    "from sklearn.tree import DecisionTreeRegressor\n",
    "dtr = DecisionTreeRegressor(max_features='auto',random_state=0)\n",
    "dtr.fit(X_train, y_train)\n",
    "y_pred = dtr.predict(X_test)\n",
    "MSE_dtr = mean_squared_error(y_true, y_pred)\n",
    "\n",
    "print(dtr.score(X_train, y_train))\n",
    "evaluate_MSE(MSE_dtr)"
   ]
  },
  {
   "cell_type": "markdown",
   "metadata": {},
   "source": [
    "# Submission csv generation"
   ]
  },
  {
   "cell_type": "code",
   "execution_count": 29,
   "metadata": {},
   "outputs": [
    {
     "data": {
      "text/plain": [
       "DecisionTreeRegressor(criterion='mse', max_depth=None, max_features='auto',\n",
       "           max_leaf_nodes=None, min_impurity_decrease=0.0,\n",
       "           min_impurity_split=None, min_samples_leaf=1,\n",
       "           min_samples_split=2, min_weight_fraction_leaf=0.0,\n",
       "           presort=False, random_state=0, splitter='best')"
      ]
     },
     "execution_count": 29,
     "metadata": {},
     "output_type": "execute_result"
    }
   ],
   "source": [
    "# fit on all of trainset\n",
    "dtr.fit(X_train_final, y_train_final)"
   ]
  },
  {
   "cell_type": "code",
   "execution_count": 30,
   "metadata": {},
   "outputs": [
    {
     "data": {
      "text/plain": [
       "0.9999864076619248"
      ]
     },
     "execution_count": 30,
     "metadata": {},
     "output_type": "execute_result"
    }
   ],
   "source": [
    "dtr.score(X_train_final, y_train_final)"
   ]
  },
  {
   "cell_type": "code",
   "execution_count": 37,
   "metadata": {},
   "outputs": [
    {
     "data": {
      "text/plain": [
       "array([2846.33309595, 3159.7792572 , 3160.48745456, ..., 2567.88613056,\n",
       "       2720.04949412, 3487.44581598])"
      ]
     },
     "execution_count": 37,
     "metadata": {},
     "output_type": "execute_result"
    }
   ],
   "source": [
    "submission_pred = dtr.predict(X_test_final)\n",
    "submission_pred"
   ]
  },
  {
   "cell_type": "code",
   "execution_count": 39,
   "metadata": {},
   "outputs": [
    {
     "data": {
      "text/plain": [
       "0    2846.333096\n",
       "1    3159.779257\n",
       "2    3160.487455\n",
       "3    3292.071202\n",
       "4    2549.473597\n",
       "dtype: float64"
      ]
     },
     "execution_count": 39,
     "metadata": {},
     "output_type": "execute_result"
    }
   ],
   "source": [
    "submission_pred = pd.Series(submission_pred)\n",
    "submission_pred.head()"
   ]
  },
  {
   "cell_type": "code",
   "execution_count": 41,
   "metadata": {},
   "outputs": [
    {
     "name": "stderr",
     "output_type": "stream",
     "text": [
      "C:\\Users\\justi\\Anaconda3\\envs\\deeplearning\\lib\\site-packages\\ipykernel_launcher.py:1: FutureWarning: The signature of `Series.to_csv` was aligned to that of `DataFrame.to_csv`, and argument 'header' will change its default value from False to True: please pass an explicit value to suppress this warning.\n",
      "  \"\"\"Entry point for launching an IPython kernel.\n"
     ]
    }
   ],
   "source": [
    "submission_pred.to_csv('hw5-testset-jw3580-submission.csv')"
   ]
  }
 ],
 "metadata": {
  "kernelspec": {
   "display_name": "Python 3",
   "language": "python",
   "name": "python3"
  },
  "language_info": {
   "codemirror_mode": {
    "name": "ipython",
    "version": 3
   },
   "file_extension": ".py",
   "mimetype": "text/x-python",
   "name": "python",
   "nbconvert_exporter": "python",
   "pygments_lexer": "ipython3",
   "version": "3.6.7"
  }
 },
 "nbformat": 4,
 "nbformat_minor": 2
}
