{
 "cells": [
  {
   "cell_type": "code",
   "execution_count": 1,
   "metadata": {},
   "outputs": [],
   "source": [
    "import numpy as np\n",
    "import pandas as pd\n",
    "import matplotlib.pyplot as plt"
   ]
  },
  {
   "cell_type": "code",
   "execution_count": 2,
   "metadata": {
    "scrolled": false
   },
   "outputs": [
    {
     "name": "stderr",
     "output_type": "stream",
     "text": [
      "C:\\Users\\justi\\Anaconda3\\envs\\deeplearning\\lib\\site-packages\\IPython\\core\\interactiveshell.py:3020: DtypeWarning: Columns (50,172,255,256,257,258,268,280,376) have mixed types. Specify dtype option on import or set low_memory=False.\n",
      "  interactivity=interactivity, compiler=compiler, result=result)\n",
      "C:\\Users\\justi\\Anaconda3\\envs\\deeplearning\\lib\\site-packages\\IPython\\core\\interactiveshell.py:3020: DtypeWarning: Columns (50,255,256,257,258,260,268) have mixed types. Specify dtype option on import or set low_memory=False.\n",
      "  interactivity=interactivity, compiler=compiler, result=result)\n"
     ]
    },
    {
     "data": {
      "text/html": [
       "<div>\n",
       "<style scoped>\n",
       "    .dataframe tbody tr th:only-of-type {\n",
       "        vertical-align: middle;\n",
       "    }\n",
       "\n",
       "    .dataframe tbody tr th {\n",
       "        vertical-align: top;\n",
       "    }\n",
       "\n",
       "    .dataframe thead th {\n",
       "        text-align: right;\n",
       "    }\n",
       "</style>\n",
       "<table border=\"1\" class=\"dataframe\">\n",
       "  <thead>\n",
       "    <tr style=\"text-align: right;\">\n",
       "      <th></th>\n",
       "      <th>cntryid</th>\n",
       "      <th>cntryid_e</th>\n",
       "      <th>age_r</th>\n",
       "      <th>gender_r</th>\n",
       "      <th>computerexperience</th>\n",
       "      <th>nativespeaker</th>\n",
       "      <th>edlevel3</th>\n",
       "      <th>monthlyincpr</th>\n",
       "      <th>yearlyincpr</th>\n",
       "      <th>lng_home</th>\n",
       "      <th>...</th>\n",
       "      <th>v85</th>\n",
       "      <th>v50</th>\n",
       "      <th>v89</th>\n",
       "      <th>v127</th>\n",
       "      <th>v239</th>\n",
       "      <th>v224</th>\n",
       "      <th>v71</th>\n",
       "      <th>v105</th>\n",
       "      <th>row</th>\n",
       "      <th>uni</th>\n",
       "    </tr>\n",
       "  </thead>\n",
       "  <tbody>\n",
       "    <tr>\n",
       "      <th>0</th>\n",
       "      <td>Russian Federation</td>\n",
       "      <td>Russian Federation</td>\n",
       "      <td>42.0</td>\n",
       "      <td>Female</td>\n",
       "      <td>Yes</td>\n",
       "      <td>Yes</td>\n",
       "      <td>High</td>\n",
       "      <td>25 to less than 50</td>\n",
       "      <td>25 to less than 50</td>\n",
       "      <td>999</td>\n",
       "      <td>...</td>\n",
       "      <td>Agree</td>\n",
       "      <td>Agree</td>\n",
       "      <td>NaN</td>\n",
       "      <td>NaN</td>\n",
       "      <td>233.0</td>\n",
       "      <td>9996.0</td>\n",
       "      <td>8521</td>\n",
       "      <td>9996.0</td>\n",
       "      <td>95754</td>\n",
       "      <td>jw3580</td>\n",
       "    </tr>\n",
       "    <tr>\n",
       "      <th>1</th>\n",
       "      <td>United States</td>\n",
       "      <td>United States</td>\n",
       "      <td>NaN</td>\n",
       "      <td>Male</td>\n",
       "      <td>Yes</td>\n",
       "      <td>Yes</td>\n",
       "      <td>High</td>\n",
       "      <td>75 to less than 90</td>\n",
       "      <td>75 to less than 90</td>\n",
       "      <td>999</td>\n",
       "      <td>...</td>\n",
       "      <td>Agree</td>\n",
       "      <td>Neither agree nor disagree</td>\n",
       "      <td>NaN</td>\n",
       "      <td>NaN</td>\n",
       "      <td>9999.0</td>\n",
       "      <td>9996.0</td>\n",
       "      <td>9999</td>\n",
       "      <td>9996.0</td>\n",
       "      <td>57367</td>\n",
       "      <td>jw3580</td>\n",
       "    </tr>\n",
       "    <tr>\n",
       "      <th>2</th>\n",
       "      <td>United States</td>\n",
       "      <td>United States</td>\n",
       "      <td>NaN</td>\n",
       "      <td>Female</td>\n",
       "      <td>Yes</td>\n",
       "      <td>Yes</td>\n",
       "      <td>High</td>\n",
       "      <td>NaN</td>\n",
       "      <td>NaN</td>\n",
       "      <td>999</td>\n",
       "      <td>...</td>\n",
       "      <td>Strongly agree</td>\n",
       "      <td>Strongly agree</td>\n",
       "      <td>NaN</td>\n",
       "      <td>NaN</td>\n",
       "      <td>9996.0</td>\n",
       "      <td>9999.0</td>\n",
       "      <td>9996</td>\n",
       "      <td>9999.0</td>\n",
       "      <td>195554</td>\n",
       "      <td>jw3580</td>\n",
       "    </tr>\n",
       "    <tr>\n",
       "      <th>3</th>\n",
       "      <td>Czech Republic</td>\n",
       "      <td>Czech Republic</td>\n",
       "      <td>23.0</td>\n",
       "      <td>Female</td>\n",
       "      <td>Yes</td>\n",
       "      <td>Yes</td>\n",
       "      <td>Medium</td>\n",
       "      <td>10 to less than 25</td>\n",
       "      <td>10 to less than 25</td>\n",
       "      <td>ces</td>\n",
       "      <td>...</td>\n",
       "      <td>Agree</td>\n",
       "      <td>Agree</td>\n",
       "      <td>NaN</td>\n",
       "      <td>NaN</td>\n",
       "      <td>3311.0</td>\n",
       "      <td>9996.0</td>\n",
       "      <td>6419</td>\n",
       "      <td>9996.0</td>\n",
       "      <td>42148</td>\n",
       "      <td>jw3580</td>\n",
       "    </tr>\n",
       "    <tr>\n",
       "      <th>4</th>\n",
       "      <td>Canada</td>\n",
       "      <td>Canada (English)</td>\n",
       "      <td>NaN</td>\n",
       "      <td>Male</td>\n",
       "      <td>Yes</td>\n",
       "      <td>Yes</td>\n",
       "      <td>Medium</td>\n",
       "      <td>NaN</td>\n",
       "      <td>NaN</td>\n",
       "      <td>999</td>\n",
       "      <td>...</td>\n",
       "      <td>Disagree</td>\n",
       "      <td>Agree</td>\n",
       "      <td>NaN</td>\n",
       "      <td>NaN</td>\n",
       "      <td>9996.0</td>\n",
       "      <td>9999.0</td>\n",
       "      <td>9999</td>\n",
       "      <td>9999.0</td>\n",
       "      <td>86076</td>\n",
       "      <td>jw3580</td>\n",
       "    </tr>\n",
       "  </tbody>\n",
       "</table>\n",
       "<p>5 rows × 380 columns</p>\n",
       "</div>"
      ],
      "text/plain": [
       "              cntryid           cntryid_e  age_r gender_r computerexperience  \\\n",
       "0  Russian Federation  Russian Federation   42.0   Female                Yes   \n",
       "1       United States       United States    NaN     Male                Yes   \n",
       "2       United States       United States    NaN   Female                Yes   \n",
       "3      Czech Republic      Czech Republic   23.0   Female                Yes   \n",
       "4              Canada    Canada (English)    NaN     Male                Yes   \n",
       "\n",
       "  nativespeaker edlevel3        monthlyincpr         yearlyincpr lng_home  \\\n",
       "0           Yes     High  25 to less than 50  25 to less than 50      999   \n",
       "1           Yes     High  75 to less than 90  75 to less than 90      999   \n",
       "2           Yes     High                 NaN                 NaN      999   \n",
       "3           Yes   Medium  10 to less than 25  10 to less than 25      ces   \n",
       "4           Yes   Medium                 NaN                 NaN      999   \n",
       "\n",
       "   ...             v85                         v50  v89 v127    v239    v224  \\\n",
       "0  ...           Agree                       Agree  NaN  NaN   233.0  9996.0   \n",
       "1  ...           Agree  Neither agree nor disagree  NaN  NaN  9999.0  9996.0   \n",
       "2  ...  Strongly agree              Strongly agree  NaN  NaN  9996.0  9999.0   \n",
       "3  ...           Agree                       Agree  NaN  NaN  3311.0  9996.0   \n",
       "4  ...        Disagree                       Agree  NaN  NaN  9996.0  9999.0   \n",
       "\n",
       "    v71    v105     row     uni  \n",
       "0  8521  9996.0   95754  jw3580  \n",
       "1  9999  9996.0   57367  jw3580  \n",
       "2  9996  9999.0  195554  jw3580  \n",
       "3  6419  9996.0   42148  jw3580  \n",
       "4  9999  9999.0   86076  jw3580  \n",
       "\n",
       "[5 rows x 380 columns]"
      ]
     },
     "execution_count": 2,
     "metadata": {},
     "output_type": "execute_result"
    }
   ],
   "source": [
    "train_df = pd.read_csv('./data/trainingset.csv')\n",
    "test_df = pd.read_csv('./data/testset.csv')\n",
    "train_df.head()"
   ]
  },
  {
   "cell_type": "code",
   "execution_count": 3,
   "metadata": {},
   "outputs": [],
   "source": [
    "# Dropping uni and v262 because the two columns have no infomration\n",
    "train_df.drop(['uni', 'v262'], axis=1, inplace=True)\n",
    "test_df.drop(['uni', 'v262'], axis=1, inplace=True)\n",
    "\n",
    "# NaN processing with interpolation\n",
    "train_df.fillna(train_df.mean(), inplace=True)\n",
    "test_df.fillna(test_df.mean(), inplace=True)\n",
    "\n",
    "# Pick out categorical columns\n",
    "train_categ_df = train_df.select_dtypes(include=[np.object], exclude=[np.number])\n",
    "train_df.drop(train_categ_df.columns, axis=1, inplace=True)\n",
    "test_categ_df = test_df.select_dtypes(include=[np.object], exclude=[np.number])\n",
    "test_df.drop(test_categ_df.columns, axis=1, inplace=True)\n",
    "\n",
    "# One-hot encode\n",
    "train_categ_df = pd.get_dummies(train_categ_df, dummy_na=True)\n",
    "test_categ_df = pd.get_dummies(test_categ_df, dummy_na=True)\n",
    "train_df = pd.concat([train_df, train_categ_df], axis=1)\n",
    "test_df = pd.concat([test_df, test_categ_df], axis=1)\n",
    "test_df.columns\n",
    "\n",
    "# Divide into X and Y (for submission)\n",
    "X_train_final = train_df.drop('job_performance', axis=1) # Fit on train_final's\n",
    "y_train_final = train_df['job_performance']\n",
    "X_test_final = test_df.drop('job_performance', axis=1) # and predict on X_test_final for submission\n",
    "y_test_final = test_df['job_performance'] # Empty"
   ]
  },
  {
   "cell_type": "markdown",
   "metadata": {},
   "source": [
    "# Pipeline for Model Selection and Tuning\n",
    "Splitting train_df into train and test because only train_df has true labels to check accuracy"
   ]
  },
  {
   "cell_type": "code",
   "execution_count": 4,
   "metadata": {},
   "outputs": [
    {
     "data": {
      "text/plain": [
       "((14000, 3329), (6000,))"
      ]
     },
     "execution_count": 4,
     "metadata": {},
     "output_type": "execute_result"
    }
   ],
   "source": [
    "from sklearn.model_selection import train_test_split\n",
    "df = train_df[:]\n",
    "X = train_df.drop('job_performance', axis=1)\n",
    "y = train_df['job_performance']\n",
    "X_train, X_test, y_train, y_test = train_test_split(X, y, test_size=0.3, random_state=42)\n",
    "X_train.shape, y_test.shape"
   ]
  },
  {
   "cell_type": "code",
   "execution_count": 15,
   "metadata": {},
   "outputs": [],
   "source": [
    "def exceeds_benchmark(MSE):\n",
    "    '''Returns True if MSE is satisfactory'''\n",
    "    benchmark = 659.41\n",
    "    print(f'{MSE - benchmark} to go')\n",
    "    return MSE <= benchmark"
   ]
  },
  {
   "cell_type": "markdown",
   "metadata": {},
   "source": [
    "# Create Baseline Model\n",
    "Basic OLS regression"
   ]
  },
  {
   "cell_type": "code",
   "execution_count": 8,
   "metadata": {},
   "outputs": [
    {
     "data": {
      "text/plain": [
       "0.7416984790578235"
      ]
     },
     "execution_count": 8,
     "metadata": {},
     "output_type": "execute_result"
    }
   ],
   "source": [
    "from sklearn.linear_model import LinearRegression\n",
    "reg = LinearRegression().fit(X_train, y_train)\n",
    "reg.score(X_train, y_train)"
   ]
  },
  {
   "cell_type": "code",
   "execution_count": 9,
   "metadata": {},
   "outputs": [
    {
     "data": {
      "text/plain": [
       "(6000,)"
      ]
     },
     "execution_count": 9,
     "metadata": {},
     "output_type": "execute_result"
    }
   ],
   "source": [
    "y_true = y_test[:]\n",
    "y_pred = reg.predict(X_test)\n",
    "y_pred.shape"
   ]
  },
  {
   "cell_type": "code",
   "execution_count": 10,
   "metadata": {},
   "outputs": [
    {
     "data": {
      "text/plain": [
       "89451.49947723513"
      ]
     },
     "execution_count": 10,
     "metadata": {},
     "output_type": "execute_result"
    }
   ],
   "source": [
    "from sklearn.metrics import mean_squared_error\n",
    "MSE = mean_squared_error(y_true, y_pred)\n",
    "MSE"
   ]
  },
  {
   "cell_type": "code",
   "execution_count": 16,
   "metadata": {},
   "outputs": [
    {
     "name": "stdout",
     "output_type": "stream",
     "text": [
      "88792.08947723513 to go\n"
     ]
    },
    {
     "data": {
      "text/plain": [
       "False"
      ]
     },
     "execution_count": 16,
     "metadata": {},
     "output_type": "execute_result"
    }
   ],
   "source": [
    "exceeds_benchmark(MSE)"
   ]
  }
 ],
 "metadata": {
  "kernelspec": {
   "display_name": "Python 3",
   "language": "python",
   "name": "python3"
  },
  "language_info": {
   "codemirror_mode": {
    "name": "ipython",
    "version": 3
   },
   "file_extension": ".py",
   "mimetype": "text/x-python",
   "name": "python",
   "nbconvert_exporter": "python",
   "pygments_lexer": "ipython3",
   "version": "3.6.7"
  }
 },
 "nbformat": 4,
 "nbformat_minor": 2
}
